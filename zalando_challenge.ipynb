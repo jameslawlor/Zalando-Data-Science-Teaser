{
 "cells": [
  {
   "cell_type": "markdown",
   "metadata": {},
   "source": [
    "# Overview\n",
    "\n",
    "I found a fun short project recently, set by the online fashion company Zalando to people applying for their Data Science positions. The goal of the project is to locate the whereabouts of a new analyst that they wish to recruit, given some limited information about her. My code below suggests three high probability locations:\n",
    "\n",
    "1. a power plant called Heizkraftwerk Klingenberg at Lat/Lon coordinates (52.4911, 13.4948).\n",
    "2. the Zalando Content Creation office at (52.5094, 13.4367).\n",
    "3. Technische Universtität Berlin's Produktionstechnisches Zentrum at (52.5247, 13.3222).\n",
    "\n",
    "In this notebook I’ll go through my implementation, both the python code and the small amount of maths needed. In the course of doing research for the project I found a couple of nice alternative solutions: see the blogs of [Aonghus Lawlor](http://aonghuslawlor.com/blog/zalando-challenge.html) (no relation) and [Yaser Martinez](http://yasermartinez.com/zalando/report.html). I have to admit both of them have produced a much more visually appealing result than my code can manage currently, however we do get similar results for the analyst location. I had a lot of issues with the map tiling needed to generate a result similar to theirs, when I learn more about them I hope to come back to this mini project and fix it.\n",
    "\n",
    "The problem itself involves modelling three probability distributions over a Cartesian plane that represents Berlin. By combining these distributions and finding the maxima it’s possible to figure out the most likely location(s). The solution below is laid out as follows:\n",
    "1. For self-containment I’ll first recap the challenge brief as it is set by Zalando.\n",
    "2. Probability Distributions for the three data sources.\n",
    "3. Shortest Euclidean distance from a point to a line segment\n",
    "4. Coordinate Transform. Her coordinates are given in terms of latitude and longitude but they’ve been kind enough to give us a decent coordinate transform that takes us to a Cartesian plane (i.e. flat instead of spherical).\n",
    "5. Python implementation for high probability locations\n",
    "6. Heatmap plot\n",
    "7. Where is the analyst?\n",
    "\n",
    "## 1 - Challenge Brief\n",
    "\n",
    "The Zalando Data Intelligence Team is searching for a new top analyst. We already know of an excellent candidate with top analytical and programming skills. Unfortunately, we don’t know her exact whereabouts but we only have some vague information where she might be. Can you tell us where to best send our recruiters and plot an easy to read map of your solution for them?  This is what we could extract from independent sources:\n",
    "\n",
    "* The candidate is likely to be close to the river Spree. The probability at any point is given by a Gaussian function of its shortest distance to the river. The function peaks at zero and has 95\\% of its total integral within +-2730m.\n",
    "* A probability distribution centred around the Brandenburg Gate also informs us of the candidate’s location. The distribution’s radial profile is log-normal with a mean of 4700m and a mode of 3877m in every direction.\n",
    "* A satellite offers further information: with 95% probability she is located within 2400 m distance of the satellite’s path (assuming a normal probability distribution)."
   ]
  },
  {
   "cell_type": "code",
   "execution_count": 16,
   "metadata": {
    "collapsed": true
   },
   "outputs": [],
   "source": [
    "import numpy as np\n",
    "from scipy.stats import lognorm, norm\n",
    "import scipy.interpolate\n",
    "from scipy import optimize"
   ]
  },
  {
   "cell_type": "markdown",
   "metadata": {},
   "source": [
    "## 2 - Probability Distributions\n",
    "\n",
    "Given the information in the challenge brief, three probability distributions ($P_\\text{Spree}$, $P_\\text{Sat.}$ and $P_\\text{BBG}$) are now defined which will later be combined to yield a total probability distribution ($P$). We assume that all three sources of information are equally reliable so that $P = \\frac{P_\\text{Spree} + P_\\text{Sat.} + P_\\text{BBG}}{3}$, however they could be weighted later on if desired. \n",
    "\n",
    "### Spree distribution parameters\n",
    "\n",
    "We need to find the parameters of the Gaussian function so we can plot it - these are the standard deviation and the mean, however we are told the mean is zero. We can figure out the standard deviation from the error function and the knowledge that 95\\% of the total integral is within a distance 2.73km using the formula \n",
    "$$ F(\\mu + n \\sigma) - F(\\mu - n \\sigma) = \\text{erf} \\frac{n}{\\sqrt{2}}  $$\n",
    "where F is the cumulative distribution function of the normal distribution with mean $\\mu = 0$, standard deviation $\\sigma$ and $n$ varies depending on the confidence interval required, e.g. for 2 standard deviations $n = 2$. As $F(\\mu + n \\sigma) - F(\\mu - n \\sigma) = 0.95$ we rearrange the above to find\n",
    "$$ n = \\sqrt{2} \\text{erf}^{-1} (0.95) = 1.96 .$$\n",
    "We know that\n",
    "$$ n \\sigma = 2.730 $$\n",
    "so\n",
    "$$ \\sigma = \\frac{2.730}{1.95996} = 1.39289. $$\n",
    " \n",
    "### Satellite distribution parameters\n",
    "Similar to the above, we know $n \\sigma = 2.4$km so by the same method\n",
    "$$  \\sigma = \\frac{2.4}{\\text{erf}^{-1}(0.95)} = 1.22451.$$\n",
    " \n"
   ]
  },
  {
   "cell_type": "code",
   "execution_count": 17,
   "metadata": {
    "collapsed": true
   },
   "outputs": [],
   "source": [
    "def p_sat(x,y,\n",
    "            start_x = 52.437385, start_y = 13.553989,\n",
    "            end_x =52.590117, end_y = 13.39915):\n",
    "\n",
    "    \"\"\"\n",
    "    normal distribution along satellite path, returns value of distribution at\n",
    "    point (x,y) in Cartesian coordinates given satellite path between \n",
    "    (start_x,start_y) and (end_x,end_y) in Lat/Lon coordinate system.\n",
    "    \"\"\"\n",
    "    sgm =  1.22451    # SD of norm for this data source. see pdf doc\n",
    "    # Transform start and end points of satellite path to cartesian\n",
    "    start_x , start_y = t(start_x,start_y)  \n",
    "    end_x, end_y = t(end_x,end_y)\n",
    "    #calculate distance d from (x,y) to path\n",
    "    d = d_to_seg(x,y,np.array([start_x, start_y]), np.array([end_x, end_y]))    \n",
    "    norm_sat = norm(0, sgm) # Create normal distribution\n",
    "    return norm_sat.pdf(d)  # Return value of point (x,y) at distance d\n",
    "\n",
    "def p_spree(x,y):\n",
    "\n",
    "    \"\"\"\n",
    "    Normal distribution along the Spree.\n",
    "    Similar to p_sat except we work with several joined line segments\n",
    "    \"\"\" \n",
    "    # Load coords from external data file\n",
    "    coords = np.loadtxt('spree_coords.dat',delimiter=',',dtype=float)  \n",
    "    #Produce line segment representation of the spree:\n",
    "    segments = [np.array(\n",
    "                    [np.array(t(coords[q][0],coords[q][1])),\n",
    "                    np.array(t(coords[q+1][0],coords[q+1][1]))]\n",
    "                ) for q in range(len(coords)-1)]    \n",
    "    sgm = 1.39289   # SD of norm, see PDF document\n",
    "\n",
    "    # function measures (x,y) to all Spree line segments,\n",
    "    # returns shortest distance\n",
    "    def spree_f(xs,ys):\n",
    "        return min([d_to_seg(xs,ys,s[0],s[1]) for s in segments ])          \n",
    "\n",
    "    v_spree_f = np.vectorize(spree_f)\n",
    "    d = v_spree_f(x,y)\n",
    "    norm_spree = norm(0,sgm)\n",
    "    return norm_spree.pdf(d)    \n"
   ]
  },
  {
   "cell_type": "markdown",
   "metadata": {},
   "source": [
    "### Brandenburg Gate distribution parameters\n",
    "Log-normal distributions are parametrised by $\\mu$ and $\\sigma$, called the location and scale parameters respectively, which we will calculate here for the Brandenburg gate distribution. We are told the mean of this distribution is $m = 4.700$km and the mode $a=3.877$km in all directions. These quantities can be expressed by the formulae:\n",
    "$$ m = e^{\\mu + \\frac{\\sigma^2}{2}} $$\n",
    "$$ a = e^{\\mu - \\sigma^2}. $$\n",
    "This forms a system of 2 solved equations with 2 unknown parameters ($\\mu$ and $\\sigma$) and can be solved relatively easily by hand\n",
    "$$ \\mu = \\log(a) +  \\sigma^2 $$\n",
    "which is substituted into\n",
    "\\begin{equation*}\n",
    "\\begin{split}\n",
    "\\sigma^2 &= 2 ( \\ln{4.7} - \\mu ) \\\\\n",
    " &=  2 ( \\ln{4.7} - \\ln{3.877} ) - 2 \\sigma^2   \\\\\n",
    "\\therefore \\sigma &= \\sqrt{\\frac{2}{3} \\ln{\\frac{4.7}{3.877}}} \\\\\n",
    "&= 0.3582\n",
    "\\end{split}\n",
    "\\end{equation*}\n",
    "so $ \\mu = 1.4834 $."
   ]
  },
  {
   "cell_type": "code",
   "execution_count": 18,
   "metadata": {
    "collapsed": true
   },
   "outputs": [],
   "source": [
    "def p_bbg(x,y,\n",
    "        center_x = 52.516288,\n",
    "        center_y = 13.377689 ):\n",
    "\n",
    "    \"\"\"\n",
    "    Log-normal distribution around the Brandenburg Gate (BBG)\n",
    "    Returns the probability of the x,y input being the analyst\n",
    "    location according to the BBG source.\n",
    "    \"\"\"\n",
    "    x0 , y0 = t(center_x, center_y) # Transform lat,lon of the BBG to cartesian\n",
    "    # parameters for the distribution, see accompanying pdf document\n",
    "    mu = 1.4834  ; sigma = 0.3582  \n",
    "    ln_bb = lognorm(s=sigma, scale = np.exp(mu)) # Creates log-norm distribution\n",
    "    return ln_bb.pdf(euclid(x,y,x0,y0)) # Return distribution val at (x,y)\n"
   ]
  },
  {
   "cell_type": "markdown",
   "metadata": {},
   "source": [
    "## 3 - Shortest Euclidean distance from a point to a line segment\n",
    "\n",
    "<img src=\"https://github.com/jameslawlor/zalando_datascience_teaser/blob/master/vectors.png?raw=true\">\n",
    "\n",
    "Here we will show how to calculate the nearest Euclidean distance between a point $p$ and a line segment passing through points $p_0$ and $p_1$. Consider the point $p$ shown in the figure above which is joined to the segment by the vectors $\\vec{w}_0$ and $\\vec{w}_1$. If \n",
    "$$\\vec{w}_0 \\cdot \\vec{v} < 0$$\n",
    "then it follows the closest point to $p$ on the segment must be $p_0$. Similarly if \n",
    "$$\\vec{w}_1 \\cdot \\vec{v} > 0$$\n",
    "then the closest point to $p$ is $p_1$. If $p$ lies somewhere such that neither of these conditions is fulfilled then it must lie perpendicular to a point lying on the segment itself.By parameterising the line segment such that $$\\vec{v}(b) = p_1 + b ( p_0 - p_1)$$ \n",
    "where \n",
    "$$b = \\frac{\\vec{w}_0 \\cdot \\vec{v}}{\\vec{v} \\cdot \\vec{v}}$$\n",
    "it is the possible to find the point on the line closest to $p$. Note the efficiency of this method - only the dot products $\\vec{w}_0 \\cdot \\vec{v}$ and $\\vec{v} \\cdot \\vec{v}$ are required to find the point on the line segment. When this point is known the Euclidean distance to point $p$ can be calculated easily."
   ]
  },
  {
   "cell_type": "code",
   "execution_count": 19,
   "metadata": {
    "collapsed": true
   },
   "outputs": [],
   "source": [
    "def euclid(x,y,x0=0,y0=0):\n",
    "    \"\"\"\n",
    "    Euclidean distance between cartesian points (x,y) and (x0,y0)\n",
    "    \"\"\"\n",
    "    return np.sqrt((x-x0)**2 + (y-y0)**2)\n",
    "\n",
    "def d_to_seg(xx,yy,p0,p1):\n",
    "\n",
    "    \"\"\"\n",
    "    Calculates Euclidean distance between a point (xx,yy)\n",
    "    and a line segment with start & end points p0, p1\n",
    "    for details of how this works please see the attached PDF\n",
    "    \"\"\"\n",
    "    def g(x0,y0):   \n",
    "        v = p1 - p0                     # Vector of line\n",
    "        w = np.array([x0,y0]) - p0      # Vector from point to line start point\n",
    "        \n",
    "        v1 = np.dot(w,v)\n",
    "        v2 = np.dot(v,v)\n",
    "        # Point lies to left of line, closest point is p0\n",
    "        if v1 <= 0.0:    return euclid(x0,y0,p0[0],p0[1])  \n",
    "        # Point lies to right, closest point is p1.\n",
    "        if v2 <= v1:     return euclid(x0,y0,p1[0],p1[1])   \n",
    "\n",
    "        b = v1/v2             # If neither if statement is satisfied, closest\n",
    "        pb = p0 + b*v         #    segment point must lie between p0 and p1\n",
    "        return euclid(x0,y0,pb[0],pb[1])\n",
    "\n",
    "    # As we work with meshgrid, this allows func to operate\n",
    "    # on all XY values simultaneously\n",
    "    vf = np.vectorize(g)     \n",
    "    return vf(xx,yy)"
   ]
  },
  {
   "cell_type": "markdown",
   "metadata": {},
   "source": [
    "## 4 - Coordinate Transform \n",
    "\n",
    "First a coordinate transform function t is defined which can convert between Latitude/Longitude and Cartesian (or vice versa by setting inv=True, which will be useful later when we want to map our coordinates back into something we can find on Google Maps). This transform was provided to us in the problem brief on the Zalando website and is quite accurate within the Berlin area. "
   ]
  },
  {
   "cell_type": "code",
   "execution_count": 20,
   "metadata": {
    "collapsed": true
   },
   "outputs": [],
   "source": [
    "def t(xx,yy,inv=False):\n",
    "    \"\"\"\n",
    "    Coordinate transform between Lat/Lon <--> Cartesian\n",
    "    accurate for the Berlin Area.\n",
    "    \"\"\"\n",
    "    SW_lat = 52.464011 #(Latitude)\n",
    "    SW_lon = 13.274099 #(Longitude)\n",
    "\n",
    "    if inv:     # Lat/Lon -> Cartesian\n",
    "        lon = SW_lon + (xx/111.323)/(np.cos(SW_lat*np.pi/180.0))\n",
    "        lat = (yy/111.323) + SW_lat\n",
    "        return lat, lon\n",
    "    else:       # Cartesian -> Lat/Lon\n",
    "        x = (yy - SW_lon) * np.cos(SW_lat * np.pi / 180.0) * 111.323\n",
    "        y = (xx - SW_lat) * 111.323\n",
    "        return x, y"
   ]
  },
  {
   "cell_type": "markdown",
   "metadata": {
    "collapsed": true
   },
   "source": [
    "## 5 - Implementation\n",
    "\n",
    "Given the above functions we can now try and find the analyst. A XY grid is made using numpy's meshgrid and the probability measured in the Z-direction. The resulting surface is then optimised via a Brute Force method (used as the problem is fairly small scale) and the coordinate of maximum probability is found.\n",
    "\n",
    "As will be shown in the next section, there are actually a handful of possible locations and these become evident when the surface is plotted. By taking a small slice of the XY grid around these points the same algorithm can be used to find these exact locations also, and I've commented out the three main ones below. Currently this will return the global maximum probability at (52.491055477900282, 13.494788009568131) where the inverse coordinate transform was used to get this in Lat/Lon."
   ]
  },
  {
   "cell_type": "code",
   "execution_count": 21,
   "metadata": {
    "collapsed": false
   },
   "outputs": [
    {
     "name": "stdout",
     "output_type": "stream",
     "text": [
      "Global Max:\n",
      "P =  0.207081084144\n",
      "Lat/Lon =  (52.491055477900282, 13.494788009568131)\n"
     ]
    }
   ],
   "source": [
    "if __name__ == \"__main__\":\n",
    "    \n",
    "    delta = 5.0e-1  # Resolution of XY grid\n",
    "   \n",
    "    # Build grid of XY cartesian coordinates \n",
    "    X, Y = np.meshgrid(np.arange(0.0, 20.01, delta),\n",
    "             np.arange(-5.0, 15.01, delta))\n",
    "    # Find the 3 distributions\n",
    "    Z_spree = p_spree(X,Y)\n",
    "    Z_sat = p_sat(X,Y)\n",
    "    Z_bbg = p_bbg(X,Y)\n",
    "    # Combined probability P \n",
    "    P = (Z_spree + Z_sat + Z_bbg )/3.0\n",
    "\n",
    "    #################################\n",
    "    # Optimisation\n",
    "    #################################\n",
    "    #################################\n",
    "    def prob(z):\n",
    "        X,Y = z\n",
    "        Z_spree = p_spree(X,Y)\n",
    "        Z_sat = p_sat(X,Y)\n",
    "        Z_bbg = p_bbg(X,Y)\n",
    "        return 1.0 - (Z_spree + Z_sat + Z_bbg)/3.0\n",
    "    # Heizkraftwerk\n",
    "    #rranges = (slice(-0.0, 20.0, delta), slice(-5.0, 15.0, delta)) \n",
    "    # TU Berlin\n",
    "    #rranges = (slice(-0.0, 10.0, delta), slice(-0.0, 10.0, delta)) \n",
    "    # Zalando CC office\n",
    "    #rranges = (slice(-5.0, 14.0, delta), slice(-5.0, 15.0, delta))\n",
    "    resbrute = optimize.brute(prob, rranges, args=(), full_output=True,\n",
    "                                   finish=optimize.fmin)\n",
    "    print 'Global Max:'\n",
    "    print 'P = ', 1-resbrute[1]\n",
    "    #print 'Cartesian Coords = ', resbrute[0][0], resbrute[0][1]\n",
    "    # \n",
    "    print 'Lat/Lon = ', t(resbrute[0][0], resbrute[0][1],True)\n"
   ]
  },
  {
   "cell_type": "markdown",
   "metadata": {},
   "source": [
    "## 6 - Heatmap Plot\n",
    "\n",
    "The surface can be interpolated and plotted (code below)\n",
    "\n",
    "<img src=\"https://raw.githubusercontent.com/jameslawlor/zalando_datascience_teaser/master/heatmap.png\">\n",
    "Heat map of $P(x,y)$ in Cartesian coordinates. \n",
    " The data source coordinates/paths of the Brandenburg Gate, satellite and Spree are shown by the red circle, red line and green line respectively.\n",
    " Local maxima in the probability of the analyst location are indicated by the blue triangles, corresponding to (L-R): TU Berlin, Zalando Content Creation and the power plant."
   ]
  },
  {
   "cell_type": "code",
   "execution_count": 22,
   "metadata": {
    "collapsed": true
   },
   "outputs": [],
   "source": [
    "import matplotlib.pyplot as plt\n",
    "plt.figure()\n",
    "\n",
    "rbf = scipy.interpolate.Rbf(X, Y, P, function='linear')\n",
    "z = P\n",
    "zi = rbf(X, Y)\n",
    "\n",
    "plt.imshow(zi, vmin=z.min(), vmax=z.max(), origin='lower',\n",
    "           extent=[X.min(), X.max(), Y.min(), Y.max()],\n",
    "             cmap=plt.get_cmap('hot'))\n",
    "plt.grid(which='major', axis='both', linestyle='-', color='k')\n",
    "\n",
    "# Brandenburg Gate point\n",
    "bbg_x, bbg_y = t(52.516288,13.377689)\n",
    "plt.plot(bbg_x,bbg_y,'o',color='r',markersize=15)\n",
    "\n",
    "# Satellite path\n",
    "sat_x_start, sat_y_start = t( 52.437385, 13.553989)\n",
    "sat_x_end, sat_y_end= t(52.590117, 13.39915)\n",
    "plt.plot([sat_x_start,sat_x_end], [sat_y_start, sat_y_end],\n",
    "             color='r', linestyle='-', linewidth=5)\n",
    "\n",
    "#Spree path\n",
    "coords = np.loadtxt('spree_coords.dat',delimiter=',',dtype=float) \n",
    "segments = [np.array([np.array(t(coords[q][0],coords[q][1])),\n",
    "                np.array(t(coords[q+1][0],coords[q+1][1]))])\n",
    "                 for q in range(len(coords)-1)]    \n",
    "for s in segments:\n",
    "    plt.plot( [s[0][0],s[1][0]],[s[0][1],s[1][1]] ,\n",
    "            color = 'g', linestyle='-', linewidth=5    )\n",
    "\n",
    "# Points of Interest\n",
    "x, y = t(52.4911, 13.4948)  # Thermal plant\n",
    "plt.plot(x,y,'v',color='b',markersize=15)\n",
    "x, y = t(52.5094, 13.4367)  # TU Berlin\n",
    "plt.plot(x,y,'v',color='b',markersize=15)#\n",
    "x, y = t(52.5247, 13.3222)  # Zalando\n",
    "plt.plot(x,y,'v',color='b',markersize=15)\n",
    "plt.xlabel('X (km)')\n",
    "plt.ylabel('Y (km)')\n",
    "cb = plt.colorbar()\n",
    "cb.set_label(\"Probability\")\n",
    "plt.show()\n"
   ]
  },
  {
   "cell_type": "markdown",
   "metadata": {},
   "source": [
    "## 7 - Where is the Analyst?\n",
    "\n",
    "A heat map of $P$ is shown in the above figure where we identify three distinct locations with high probabilities using the brute force optimisation algorithm.\n",
    "\n",
    "  \n",
    "* Highest probability ($p=0.207$) at coordinates (52.4911, 13.4948) at Heizkraftwerk Klingenberg, a power plant.\n",
    "* Second highest probability ($p=0.194$) at (52.5094, 13.4367), the Zalando Content Creation office.\n",
    "* Third highest ($p=0.185$) at (52.5247, 13.3222) corresponding to Technische Universtität Berlin: Produktionstechnisches Zentrum.\n",
    "\n",
    "Intuition suggests that the third option is the most 'sensible' place to find the analyst although it is not the most probable according to the calculation. The power plant would be a surprising place to find such a skilled analyst and presumably if they were at the Zalando office their whereabouts would be known to the team already (or quickly checked). \n",
    "\n",
    "This could be explained by the fact we initially assumed all three data sources were equally reliable. If we were to have additional information on the accuracy of these sources it would be possible to weight the separate probability distributions accordingly, leading to a different total probability distribution $P$. For example, it can be immediately inferred from the figure that removing the satellite source would make the University and Zalando locations much more probable, as well as effectively removing the power plant as a point of interest.\n",
    " \n",
    "Using the figure again we can also suggest that if the analyst is not at the three locations above, there exists a high probability path (an arête-like feature) between the power plant and the Zalando office along the North bank of the Spree. Potential locations along this path include a large Mercedes-Benz office, several nightclubs and a sports centre.\n"
   ]
  },
  {
   "cell_type": "code",
   "execution_count": null,
   "metadata": {
    "collapsed": true
   },
   "outputs": [],
   "source": []
  }
 ],
 "metadata": {
  "kernelspec": {
   "display_name": "Python 2",
   "language": "python",
   "name": "python2"
  },
  "language_info": {
   "codemirror_mode": {
    "name": "ipython",
    "version": 2
   },
   "file_extension": ".py",
   "mimetype": "text/x-python",
   "name": "python",
   "nbconvert_exporter": "python",
   "pygments_lexer": "ipython2",
   "version": "2.7.3"
  }
 },
 "nbformat": 4,
 "nbformat_minor": 0
}
